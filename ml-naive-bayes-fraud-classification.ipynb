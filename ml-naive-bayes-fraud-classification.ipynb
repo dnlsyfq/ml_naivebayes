{
 "cells": [
  {
   "cell_type": "code",
   "execution_count": 1,
   "id": "a897776a",
   "metadata": {
    "_cell_guid": "b1076dfc-b9ad-4769-8c92-a6c4dae69d19",
    "_uuid": "8f2839f25d086af736a60e9eeb907d3b93b6e0e5",
    "execution": {
     "iopub.execute_input": "2024-04-06T04:13:02.083362Z",
     "iopub.status.busy": "2024-04-06T04:13:02.082900Z",
     "iopub.status.idle": "2024-04-06T04:13:04.805510Z",
     "shell.execute_reply": "2024-04-06T04:13:04.804320Z"
    },
    "papermill": {
     "duration": 2.732262,
     "end_time": "2024-04-06T04:13:04.808176",
     "exception": false,
     "start_time": "2024-04-06T04:13:02.075914",
     "status": "completed"
    },
    "tags": []
   },
   "outputs": [
    {
     "name": "stdout",
     "output_type": "stream",
     "text": [
      "/kaggle/input/fraudulent-transactions-data/Fraud.csv\n"
     ]
    }
   ],
   "source": [
    "import numpy as np \n",
    "import pandas as pd \n",
    "from sklearn.model_selection import train_test_split\n",
    "from sklearn.naive_bayes import GaussianNB\n",
    "\n",
    "import os\n",
    "for dirname, _, filenames in os.walk('/kaggle/input'):\n",
    "    for filename in filenames:\n",
    "        print(os.path.join(dirname, filename))\n"
   ]
  },
  {
   "cell_type": "code",
   "execution_count": 2,
   "id": "84252d92",
   "metadata": {
    "execution": {
     "iopub.execute_input": "2024-04-06T04:13:04.818366Z",
     "iopub.status.busy": "2024-04-06T04:13:04.817793Z",
     "iopub.status.idle": "2024-04-06T04:13:29.735911Z",
     "shell.execute_reply": "2024-04-06T04:13:29.734646Z"
    },
    "papermill": {
     "duration": 24.925928,
     "end_time": "2024-04-06T04:13:29.738488",
     "exception": false,
     "start_time": "2024-04-06T04:13:04.812560",
     "status": "completed"
    },
    "tags": []
   },
   "outputs": [
    {
     "data": {
      "text/html": [
       "<div>\n",
       "<style scoped>\n",
       "    .dataframe tbody tr th:only-of-type {\n",
       "        vertical-align: middle;\n",
       "    }\n",
       "\n",
       "    .dataframe tbody tr th {\n",
       "        vertical-align: top;\n",
       "    }\n",
       "\n",
       "    .dataframe thead th {\n",
       "        text-align: right;\n",
       "    }\n",
       "</style>\n",
       "<table border=\"1\" class=\"dataframe\">\n",
       "  <thead>\n",
       "    <tr style=\"text-align: right;\">\n",
       "      <th></th>\n",
       "      <th>step</th>\n",
       "      <th>type</th>\n",
       "      <th>amount</th>\n",
       "      <th>nameOrig</th>\n",
       "      <th>oldbalanceOrg</th>\n",
       "      <th>newbalanceOrig</th>\n",
       "      <th>nameDest</th>\n",
       "      <th>oldbalanceDest</th>\n",
       "      <th>newbalanceDest</th>\n",
       "      <th>isFraud</th>\n",
       "      <th>isFlaggedFraud</th>\n",
       "    </tr>\n",
       "  </thead>\n",
       "  <tbody>\n",
       "    <tr>\n",
       "      <th>5551448</th>\n",
       "      <td>383</td>\n",
       "      <td>PAYMENT</td>\n",
       "      <td>2405.47</td>\n",
       "      <td>C212106083</td>\n",
       "      <td>0.00</td>\n",
       "      <td>0.0</td>\n",
       "      <td>M1656668378</td>\n",
       "      <td>0.00</td>\n",
       "      <td>0.00</td>\n",
       "      <td>0</td>\n",
       "      <td>0</td>\n",
       "    </tr>\n",
       "    <tr>\n",
       "      <th>4637863</th>\n",
       "      <td>330</td>\n",
       "      <td>TRANSFER</td>\n",
       "      <td>200487.78</td>\n",
       "      <td>C729432212</td>\n",
       "      <td>0.00</td>\n",
       "      <td>0.0</td>\n",
       "      <td>C296177373</td>\n",
       "      <td>938738.49</td>\n",
       "      <td>1139226.27</td>\n",
       "      <td>0</td>\n",
       "      <td>0</td>\n",
       "    </tr>\n",
       "    <tr>\n",
       "      <th>4777142</th>\n",
       "      <td>335</td>\n",
       "      <td>PAYMENT</td>\n",
       "      <td>2273.27</td>\n",
       "      <td>C6766348</td>\n",
       "      <td>0.00</td>\n",
       "      <td>0.0</td>\n",
       "      <td>M1205906634</td>\n",
       "      <td>0.00</td>\n",
       "      <td>0.00</td>\n",
       "      <td>0</td>\n",
       "      <td>0</td>\n",
       "    </tr>\n",
       "    <tr>\n",
       "      <th>4813371</th>\n",
       "      <td>346</td>\n",
       "      <td>CASH_OUT</td>\n",
       "      <td>209971.27</td>\n",
       "      <td>C165725957</td>\n",
       "      <td>0.00</td>\n",
       "      <td>0.0</td>\n",
       "      <td>C1016267313</td>\n",
       "      <td>793426.49</td>\n",
       "      <td>1003397.76</td>\n",
       "      <td>0</td>\n",
       "      <td>0</td>\n",
       "    </tr>\n",
       "    <tr>\n",
       "      <th>3861959</th>\n",
       "      <td>283</td>\n",
       "      <td>CASH_OUT</td>\n",
       "      <td>102231.71</td>\n",
       "      <td>C749848502</td>\n",
       "      <td>2320.22</td>\n",
       "      <td>0.0</td>\n",
       "      <td>C1343932775</td>\n",
       "      <td>970795.31</td>\n",
       "      <td>1073027.02</td>\n",
       "      <td>0</td>\n",
       "      <td>0</td>\n",
       "    </tr>\n",
       "  </tbody>\n",
       "</table>\n",
       "</div>"
      ],
      "text/plain": [
       "         step      type     amount    nameOrig  oldbalanceOrg  newbalanceOrig  \\\n",
       "5551448   383   PAYMENT    2405.47  C212106083           0.00             0.0   \n",
       "4637863   330  TRANSFER  200487.78  C729432212           0.00             0.0   \n",
       "4777142   335   PAYMENT    2273.27    C6766348           0.00             0.0   \n",
       "4813371   346  CASH_OUT  209971.27  C165725957           0.00             0.0   \n",
       "3861959   283  CASH_OUT  102231.71  C749848502        2320.22             0.0   \n",
       "\n",
       "            nameDest  oldbalanceDest  newbalanceDest  isFraud  isFlaggedFraud  \n",
       "5551448  M1656668378            0.00            0.00        0               0  \n",
       "4637863   C296177373       938738.49      1139226.27        0               0  \n",
       "4777142  M1205906634            0.00            0.00        0               0  \n",
       "4813371  C1016267313       793426.49      1003397.76        0               0  \n",
       "3861959  C1343932775       970795.31      1073027.02        0               0  "
      ]
     },
     "execution_count": 2,
     "metadata": {},
     "output_type": "execute_result"
    }
   ],
   "source": [
    "df = pd.read_csv('/kaggle/input/fraudulent-transactions-data/Fraud.csv')\n",
    "df.sample(5)"
   ]
  },
  {
   "cell_type": "code",
   "execution_count": 3,
   "id": "a1040529",
   "metadata": {
    "execution": {
     "iopub.execute_input": "2024-04-06T04:13:29.749466Z",
     "iopub.status.busy": "2024-04-06T04:13:29.748756Z",
     "iopub.status.idle": "2024-04-06T04:13:30.348539Z",
     "shell.execute_reply": "2024-04-06T04:13:30.347276Z"
    },
    "papermill": {
     "duration": 0.608212,
     "end_time": "2024-04-06T04:13:30.351074",
     "exception": false,
     "start_time": "2024-04-06T04:13:29.742862",
     "status": "completed"
    },
    "tags": []
   },
   "outputs": [
    {
     "data": {
      "text/plain": [
       "array(['PAYMENT', 'TRANSFER', 'CASH_OUT', 'DEBIT', 'CASH_IN'],\n",
       "      dtype=object)"
      ]
     },
     "execution_count": 3,
     "metadata": {},
     "output_type": "execute_result"
    }
   ],
   "source": [
    "df['type'].unique()"
   ]
  },
  {
   "cell_type": "code",
   "execution_count": 4,
   "id": "7b842cd7",
   "metadata": {
    "execution": {
     "iopub.execute_input": "2024-04-06T04:13:30.362560Z",
     "iopub.status.busy": "2024-04-06T04:13:30.362150Z",
     "iopub.status.idle": "2024-04-06T04:13:30.366491Z",
     "shell.execute_reply": "2024-04-06T04:13:30.365323Z"
    },
    "papermill": {
     "duration": 0.013212,
     "end_time": "2024-04-06T04:13:30.369070",
     "exception": false,
     "start_time": "2024-04-06T04:13:30.355858",
     "status": "completed"
    },
    "tags": []
   },
   "outputs": [],
   "source": [
    "# To Do :\n",
    "# Convert type column to numerical"
   ]
  },
  {
   "cell_type": "code",
   "execution_count": 5,
   "id": "728110f4",
   "metadata": {
    "execution": {
     "iopub.execute_input": "2024-04-06T04:13:30.380310Z",
     "iopub.status.busy": "2024-04-06T04:13:30.379651Z",
     "iopub.status.idle": "2024-04-06T04:13:34.496496Z",
     "shell.execute_reply": "2024-04-06T04:13:34.495298Z"
    },
    "papermill": {
     "duration": 4.125893,
     "end_time": "2024-04-06T04:13:34.499508",
     "exception": false,
     "start_time": "2024-04-06T04:13:30.373615",
     "status": "completed"
    },
    "tags": []
   },
   "outputs": [],
   "source": [
    "features = df.drop('isFraud',axis=1).values\n",
    "target = df['isFraud'].values"
   ]
  },
  {
   "cell_type": "code",
   "execution_count": 6,
   "id": "2d30637f",
   "metadata": {
    "execution": {
     "iopub.execute_input": "2024-04-06T04:13:34.510298Z",
     "iopub.status.busy": "2024-04-06T04:13:34.509877Z",
     "iopub.status.idle": "2024-04-06T04:13:50.846416Z",
     "shell.execute_reply": "2024-04-06T04:13:50.844856Z"
    },
    "papermill": {
     "duration": 16.345452,
     "end_time": "2024-04-06T04:13:50.849537",
     "exception": false,
     "start_time": "2024-04-06T04:13:34.504085",
     "status": "completed"
    },
    "tags": []
   },
   "outputs": [],
   "source": [
    "X_train, X_test, y_train, y_test = train_test_split(features,target,test_size=0.3,random_state=42,stratify=target)\n",
    "nb_classifier = GaussianNB()"
   ]
  },
  {
   "cell_type": "code",
   "execution_count": 7,
   "id": "034d1877",
   "metadata": {
    "execution": {
     "iopub.execute_input": "2024-04-06T04:13:50.861924Z",
     "iopub.status.busy": "2024-04-06T04:13:50.861512Z",
     "iopub.status.idle": "2024-04-06T04:13:50.866399Z",
     "shell.execute_reply": "2024-04-06T04:13:50.865071Z"
    },
    "papermill": {
     "duration": 0.014083,
     "end_time": "2024-04-06T04:13:50.868938",
     "exception": false,
     "start_time": "2024-04-06T04:13:50.854855",
     "status": "completed"
    },
    "tags": []
   },
   "outputs": [],
   "source": [
    "# nb_classifier.fit(X_train,y_train)"
   ]
  },
  {
   "cell_type": "code",
   "execution_count": 8,
   "id": "d77d83ca",
   "metadata": {
    "execution": {
     "iopub.execute_input": "2024-04-06T04:13:50.880040Z",
     "iopub.status.busy": "2024-04-06T04:13:50.879611Z",
     "iopub.status.idle": "2024-04-06T04:13:50.884669Z",
     "shell.execute_reply": "2024-04-06T04:13:50.883436Z"
    },
    "papermill": {
     "duration": 0.013718,
     "end_time": "2024-04-06T04:13:50.887451",
     "exception": false,
     "start_time": "2024-04-06T04:13:50.873733",
     "status": "completed"
    },
    "tags": []
   },
   "outputs": [],
   "source": [
    "# nb_classifier.score(X_test,y_test)"
   ]
  }
 ],
 "metadata": {
  "kaggle": {
   "accelerator": "none",
   "dataSources": [
    {
     "datasetId": 1964310,
     "sourceId": 3240868,
     "sourceType": "datasetVersion"
    }
   ],
   "dockerImageVersionId": 30673,
   "isGpuEnabled": false,
   "isInternetEnabled": true,
   "language": "python",
   "sourceType": "notebook"
  },
  "kernelspec": {
   "display_name": "Python 3",
   "language": "python",
   "name": "python3"
  },
  "language_info": {
   "codemirror_mode": {
    "name": "ipython",
    "version": 3
   },
   "file_extension": ".py",
   "mimetype": "text/x-python",
   "name": "python",
   "nbconvert_exporter": "python",
   "pygments_lexer": "ipython3",
   "version": "3.10.13"
  },
  "papermill": {
   "default_parameters": {},
   "duration": 54.805655,
   "end_time": "2024-04-06T04:13:53.614641",
   "environment_variables": {},
   "exception": null,
   "input_path": "__notebook__.ipynb",
   "output_path": "__notebook__.ipynb",
   "parameters": {},
   "start_time": "2024-04-06T04:12:58.808986",
   "version": "2.5.0"
  }
 },
 "nbformat": 4,
 "nbformat_minor": 5
}
